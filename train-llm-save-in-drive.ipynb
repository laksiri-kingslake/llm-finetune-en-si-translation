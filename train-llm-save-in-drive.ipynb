{
 "cells": [
  {
   "cell_type": "code",
   "execution_count": null,
   "id": "2aad845b",
   "metadata": {},
   "outputs": [],
   "source": [
    "# ================================================\n",
    "# STEP 1: Mount Google Drive\n",
    "# ================================================\n",
    "from google.colab import drive\n",
    "drive.mount('/content/drive')\n",
    "\n",
    "# Path to save checkpoints\n",
    "CHECKPOINT_DIR = \"/content/drive/MyDrive/finetune_llm_checkpoints\"\n",
    "\n",
    "# Create directory if it doesn't exist\n",
    "import os\n",
    "os.makedirs(CHECKPOINT_DIR, exist_ok=True)"
   ]
  },
  {
   "cell_type": "code",
   "execution_count": null,
   "id": "31e612b3",
   "metadata": {},
   "outputs": [],
   "source": [
    "# ================================================\n",
    "# STEP 2: Install Hugging Face Transformers + Datasets\n",
    "# ================================================\n",
    "!pip install -q transformers datasets accelerate\n",
    "\n"
   ]
  },
  {
   "cell_type": "code",
   "execution_count": null,
   "id": "1d4b151d",
   "metadata": {},
   "outputs": [],
   "source": [
    "# ================================================\n",
    "# STEP 3: Load Dataset and Model\n",
    "# (You can replace with your dataset/model)\n",
    "# ================================================\n",
    "from datasets import load_dataset\n",
    "from transformers import AutoTokenizer, AutoModelForCausalLM\n",
    "\n",
    "# Example dataset (wikitext-2)\n",
    "dataset = load_dataset(\"wikitext\", \"wikitext-2-raw-v1\")\n",
    "\n",
    "model_name = \"gpt2\"  # Change to your base model\n",
    "tokenizer = AutoTokenizer.from_pretrained(model_name)\n",
    "tokenizer.pad_token = tokenizer.eos_token  # For causal LM padding\n",
    "\n",
    "# Tokenize dataset\n",
    "def tokenize_function(examples):\n",
    "    return tokenizer(examples[\"text\"], padding=\"max_length\", truncation=True, max_length=128)\n",
    "\n",
    "tokenized_datasets = dataset.map(tokenize_function, batched=True, remove_columns=[\"text\"])\n",
    "\n"
   ]
  },
  {
   "cell_type": "code",
   "execution_count": null,
   "id": "f3e522cf",
   "metadata": {},
   "outputs": [],
   "source": [
    "# ================================================\n",
    "# STEP 4: Define Data Collator\n",
    "# ================================================\n",
    "from transformers import DataCollatorForLanguageModeling\n",
    "data_collator = DataCollatorForLanguageModeling(tokenizer=tokenizer, mlm=False)\n",
    "\n"
   ]
  },
  {
   "cell_type": "code",
   "execution_count": null,
   "id": "ef44d1c0",
   "metadata": {},
   "outputs": [],
   "source": [
    "# ================================================\n",
    "# STEP 5: Load Model (Resume if Checkpoint Exists)\n",
    "# ================================================\n",
    "from transformers import AutoModelForCausalLM\n",
    "\n",
    "if os.path.exists(os.path.join(CHECKPOINT_DIR, \"trainer_state.json\")):\n",
    "    print(f\"Resuming from checkpoint: {CHECKPOINT_DIR}\")\n",
    "    model = AutoModelForCausalLM.from_pretrained(CHECKPOINT_DIR)\n",
    "else:\n",
    "    print(f\"Starting from base model: {model_name}\")\n",
    "    model = AutoModelForCausalLM.from_pretrained(model_name)\n",
    "\n"
   ]
  },
  {
   "cell_type": "code",
   "execution_count": null,
   "id": "509bfa20",
   "metadata": {},
   "outputs": [],
   "source": [
    "# ================================================\n",
    "# STEP 6: Define Trainer with Auto-Save\n",
    "# ================================================\n",
    "from transformers import Trainer, TrainingArguments\n",
    "from transformers.trainer_utils import IntervalStrategy # Import IntervalStrategy\n",
    "\n",
    "training_args = TrainingArguments(\n",
    "    output_dir=CHECKPOINT_DIR,\n",
    "    overwrite_output_dir=True,\n",
    "    eval_strategy=IntervalStrategy.STEPS, # Use IntervalStrategy.STEPS\n",
    "    save_strategy=\"steps\",        # Save checkpoints every N steps\n",
    "    save_steps=500,               # Adjust to save more/less frequently\n",
    "    save_total_limit=3,           # Keep only last 3 checkpoints\n",
    "    num_train_epochs=3,\n",
    "    per_device_train_batch_size=2,\n",
    "    per_device_eval_batch_size=2,\n",
    "    learning_rate=5e-5,\n",
    "    weight_decay=0.01,\n",
    "    logging_dir='./logs',\n",
    "    logging_steps=100,\n",
    "    push_to_hub=False\n",
    ")\n",
    "\n",
    "trainer = Trainer(\n",
    "    model=model,\n",
    "    args=training_args,\n",
    "    train_dataset=tokenized_datasets[\"train\"],\n",
    "    eval_dataset=tokenized_datasets[\"validation\"],\n",
    "    tokenizer=tokenizer,\n",
    "    data_collator=data_collator\n",
    ")"
   ]
  },
  {
   "cell_type": "code",
   "execution_count": null,
   "id": "82fca062",
   "metadata": {},
   "outputs": [],
   "source": [
    "# ================================================\n",
    "# STEP 7: Train (Resume Automatically if Needed)\n",
    "# ================================================\n",
    "last_checkpoint = None\n",
    "if os.path.exists(CHECKPOINT_DIR):\n",
    "    from transformers.trainer_utils import get_last_checkpoint\n",
    "    last_checkpoint = get_last_checkpoint(CHECKPOINT_DIR)\n",
    "    if last_checkpoint is not None:\n",
    "        print(f\"Found checkpoint at {last_checkpoint}, resuming training...\")\n",
    "        \n",
    "trainer.train(resume_from_checkpoint=last_checkpoint)\n",
    "\n"
   ]
  },
  {
   "cell_type": "code",
   "execution_count": null,
   "id": "e5250cd9",
   "metadata": {},
   "outputs": [],
   "source": [
    "# ================================================\n",
    "# STEP 8: Save Final Model to Drive\n",
    "# ================================================\n",
    "trainer.save_model(CHECKPOINT_DIR)\n",
    "print(f\"Final model saved to {CHECKPOINT_DIR}\")"
   ]
  }
 ],
 "metadata": {
  "language_info": {
   "name": "python"
  }
 },
 "nbformat": 4,
 "nbformat_minor": 5
}
